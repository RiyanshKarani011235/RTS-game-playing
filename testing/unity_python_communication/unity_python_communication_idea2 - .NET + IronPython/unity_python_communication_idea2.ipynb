{
 "cells": [
  {
   "cell_type": "markdown",
   "metadata": {},
   "source": [
    "<h1>IDEA !</h1>\n",
    "\n",
    "You can [add IronPython to your Unity project](http://techartsurvival.blogspot.in/2013/12/embedding-ironpython-in-unity-tech-art.html)  and then create a C# script that will load Python scripts from the files and run them. Then from the Python scripts, you can import UnityEngine.dll and use the Unity stuff (from the  [Unity API](https://docs.unity3d.com/ScriptReference/)) like `FindGameObjectWithTag` and so on to access the game objects from Python"
   ]
  },
  {
   "cell_type": "markdown",
   "metadata": {},
   "source": [
    "<h1>Some Basics (which I had no idea about)</h1>\n",
    "\n",
    "<u><h3>IronPython</h3></u>\n",
    "\n",
    "IronPython is an open-source implementation of the Python programming language which is tightly integrated with the .NET Framework. IronPython can use the .NET Framework and Python libraries, and other .NET languages can use Python code just as easily.\n",
    "\n",
    "<u><h3>.NET</h3></u>\n",
    "\n",
    ".NET is a programming framework created by Microsoft that developers can use to create applications more easily. As commenter dwroth aptly put it, \"a framework is just a bunch of code that the programmer can call without having to write it explicitly.\"\n",
    "\n",
    "In a perfect world, you wouldn't need .NET Framework. The makers of all your crucial applications would have the time and resources to fully patch together their applications into self-contained packages, because developing for Windows would be an intuitive, mostly high-level process that independent developers could nail down in fairly quick order. So nobody besides developers would need a package like .NET, which provides applications with an orderly way to access databases, web services, and other communication tools.\n",
    "\n",
    "But you don't live in that world, and we certainly don't write in it. Thus, .NET makes lives of app developers very easy\n",
    "\n",
    "<u><h3>IronPython + .NET</h3></u>\n",
    "\n",
    "Because this IronPhyton runs in .Net you can actually just have to import the UnityEngine.dll like any other lib and then if you do for example import UnityEngine as unity `unity.Debug.Log(\"Hi\")` It should work."
   ]
  },
  {
   "cell_type": "code",
   "execution_count": null,
   "metadata": {
    "collapsed": true
   },
   "outputs": [],
   "source": []
  }
 ],
 "metadata": {
  "kernelspec": {
   "display_name": "Python 3",
   "language": "python",
   "name": "python3"
  },
  "language_info": {
   "codemirror_mode": {
    "name": "ipython",
    "version": 3
   },
   "file_extension": ".py",
   "mimetype": "text/x-python",
   "name": "python",
   "nbconvert_exporter": "python",
   "pygments_lexer": "ipython3",
   "version": "3.4.3"
  }
 },
 "nbformat": 4,
 "nbformat_minor": 0
}
