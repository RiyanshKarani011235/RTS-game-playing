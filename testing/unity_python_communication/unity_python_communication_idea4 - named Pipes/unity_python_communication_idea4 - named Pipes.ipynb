{
 "cells": [
  {
   "cell_type": "markdown",
   "metadata": {},
   "source": [
    "I hope use a one server two client model to establish communication beween the C# code and the Python code. The server is a Python Daemon running in the background which is in incharge of passing messages between the C# code and the Python code. \n",
    "\n",
    "A daemon is required because of the unpredictability of the order in which the update functions of each of the unity objects are called. Because the \"send newoutput\" leads to a \"read operation\" on Python's part, it can get blocked. But it is okay if a daemon gets blocked since all the other daemons can still read, ensuring that all the daemons finally receive the data (no matter what the order). Hence, the Python script can then read the daemons in order."
   ]
  },
  {
   "cell_type": "markdown",
   "metadata": {
    "collapsed": true
   },
   "source": [
    "So, the <img src=\"images/image.png\">"
   ]
  },
  {
   "cell_type": "code",
   "execution_count": null,
   "metadata": {
    "collapsed": true
   },
   "outputs": [],
   "source": []
  }
 ],
 "metadata": {
  "kernelspec": {
   "display_name": "Python 3",
   "language": "python",
   "name": "python3"
  },
  "language_info": {
   "codemirror_mode": {
    "name": "ipython",
    "version": 3
   },
   "file_extension": ".py",
   "mimetype": "text/x-python",
   "name": "python",
   "nbconvert_exporter": "python",
   "pygments_lexer": "ipython3",
   "version": "3.4.3"
  }
 },
 "nbformat": 4,
 "nbformat_minor": 0
}
