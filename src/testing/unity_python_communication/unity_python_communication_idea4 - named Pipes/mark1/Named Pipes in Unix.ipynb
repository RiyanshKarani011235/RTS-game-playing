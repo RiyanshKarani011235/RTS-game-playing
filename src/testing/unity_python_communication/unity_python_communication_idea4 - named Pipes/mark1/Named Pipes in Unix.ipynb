{
 "cells": [
  {
   "cell_type": "code",
   "execution_count": 1,
   "metadata": {
    "collapsed": false
   },
   "outputs": [
    {
     "name": "stdout",
     "output_type": "stream",
     "text": [
      "Writing test.cs\n"
     ]
    }
   ],
   "source": [
    "%%file test.cs\n",
    "\n",
    "using System;\n",
    "using System.IO;\n",
    "using System.IO.Pipes;     // NamedPipeServerStream\n",
    "using System.Text;\n",
    "using System.Threading;\n",
    "\n",
    "public class pipeServer {\n",
    "    public static void Main() {\n",
    "        NamedPipeServerStream pipeServer = new NamedPipeServerStream(\"/tmp/fifo\",PipeDirection.In);\n",
    "        pipeServer.WaitForConnection();\n",
    "        Console.WriteLine(\"connected\");\n",
    "        StreamReader ss = new StreamReader(pipeServer);\n",
    "        string filename = ss.ReadLine();\n",
    "\n",
    "        Console.WriteLine(\"got a reply {0}\",filename);\n",
    "    }\n",
    "}\n",
    ""
   ]
  },
  {
   "cell_type": "code",
   "execution_count": null,
   "metadata": {
    "collapsed": true
   },
   "outputs": [],
   "source": []
  }
 ],
 "metadata": {
  "kernelspec": {
   "display_name": "Python 3",
   "language": "python",
   "name": "python3"
  },
  "language_info": {
   "codemirror_mode": {
    "name": "ipython",
    "version": 3
   },
   "file_extension": ".py",
   "mimetype": "text/x-python",
   "name": "python",
   "nbconvert_exporter": "python",
   "pygments_lexer": "ipython3",
   "version": "3.4.3"
  }
 },
 "nbformat": 4,
 "nbformat_minor": 0
}
