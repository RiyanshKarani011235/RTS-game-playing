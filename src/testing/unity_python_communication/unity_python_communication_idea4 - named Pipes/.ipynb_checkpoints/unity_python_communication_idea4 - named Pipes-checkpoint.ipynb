{
 "cells": [
  {
   "cell_type": "markdown",
   "metadata": {},
   "source": [
    "I hope use a one server two client model to establish communication beween the C# code and the Python code. The server is a Python Daemon running in the background which is in incharge of passing messages between the C# code and the Python code. \n",
    "\n",
    "A daemon is required because of the unpredictability of the order in which the update functions of each of the unity objects are called. Because the \"send newoutput\" leads to a \"read operation\" on Python's part, it can get blocked. But it is okay if a daemon gets blocked since all the other daemons can still read, ensuring that all the daemons finally receive the data (no matter what the order). Hence, the Python script can then read the daemons in order."
   ]
  },
  {
   "cell_type": "markdown",
   "metadata": {
    "collapsed": true
   },
   "source": [
    "So, the communication diagram looks like this : \n",
    "\n",
    "**ADD PICTURE**"
   ]
  },
  {
   "cell_type": "markdown",
   "metadata": {},
   "source": [
    "**ADD DAEMON EXPLANATION, OR ADD LINK TO THE PAGE TO DAEMON EXPLANATION**"
   ]
  },
  {
   "cell_type": "markdown",
   "metadata": {
    "collapsed": true
   },
   "source": [
    "What we have to do now is to initiate two pairs of ipes for each unity object. One pair for communication between C# script and the Python daemon, and another pair of pipes for communication between Python script and Python Daemon. pipes can simply be initiated by running the `\"mkfifo pipe_name\"` command, but the real problem lies in opening the pipes, and handshaking for establishing communication. Hence, the following method is used to establish communication :"
   ]
  },
  {
   "cell_type": "markdown",
   "metadata": {},
   "source": [
    "<img src=\"images/communication_initialization.png\">"
   ]
  },
  {
   "cell_type": "markdown",
   "metadata": {},
   "source": [
    "In the implementation above, since it is ensured that the unity read and write pipes are open before the comm. daemon is even called (apparently, the opening of `NamedStreamServer` in C# is a non-blocking operation). Hence, no matter when the Python daemon writes to the read pipe, the data can eventually be read (since it will be stored in the read pipe buffer).\n",
    "\n",
    "The problem with the Python daemon is that if the Unity Object writes to the daemon before the read pipe is open (which can not be guaranteed in the current implementation (since read is performed only after write is performed)), the daemon misses the data and hangs. To address this problem, we use a modified process for handshaking between the Unity object and the communication daemon :\n",
    "\n",
    "<img src=\"python_fork_for_proper_handshake.png\">"
   ]
  },
  {
   "cell_type": "code",
   "execution_count": null,
   "metadata": {
    "collapsed": true
   },
   "outputs": [],
   "source": []
  }
 ],
 "metadata": {
  "kernelspec": {
   "display_name": "Python 3",
   "language": "python",
   "name": "python3"
  },
  "language_info": {
   "codemirror_mode": {
    "name": "ipython",
    "version": 3
   },
   "file_extension": ".py",
   "mimetype": "text/x-python",
   "name": "python",
   "nbconvert_exporter": "python",
   "pygments_lexer": "ipython3",
   "version": "3.4.3"
  }
 },
 "nbformat": 4,
 "nbformat_minor": 0
}
