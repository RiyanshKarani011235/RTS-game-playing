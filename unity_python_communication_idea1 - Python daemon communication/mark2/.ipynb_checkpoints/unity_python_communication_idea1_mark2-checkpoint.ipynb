{
 "cells": [
  {
   "cell_type": "markdown",
   "metadata": {},
   "source": [
    "Lets first decide the directory structure \n",
    "\n",
    "    __init__.py\n",
    "    daemons/\n",
    "        __init__.py\n",
    "        daemon.py\n",
    "        python_read_daemon.py\n",
    "        python_write_daemon.py\n",
    "        unity_read_daemon.py\n",
    "        unity_write_daemon.py\n",
    "        utils/\n",
    "            __init__.py\n",
    "            getcwd.py\n",
    "            read_object_from_file.py\n",
    "            write_object_to_file.py\n",
    "            ...\n",
    "    text_buffer/\n",
    "        python_read_text_buffer/\n",
    "            object1\n",
    "            object2\n",
    "            ...\n",
    "        unity_read_text_buffer/\n",
    "            object1\n",
    "            object2\n",
    "            ...\n",
    "    src/\n",
    "        __init__.py\n",
    "        python scripts to control the game objects"
   ]
  },
  {
   "cell_type": "code",
   "execution_count": 1,
   "metadata": {
    "collapsed": false
   },
   "outputs": [
    {
     "name": "stdout",
     "output_type": "stream",
     "text": [
      "mkdir: daemons: File exists\n",
      "mkdir: daemons/utils: File exists\n",
      "mkdir: text_buffer: File exists\n",
      "mkdir: text_buffer/python_read_text_buffer: File exists\n",
      "mkdir: text_buffer/unity_read_text_buffer: File exists\n",
      "mkdir: src: File exists\n"
     ]
    }
   ],
   "source": [
    "!mkdir daemons\n",
    "!mkdir daemons/utils\n",
    "!mkdir text_buffer\n",
    "!mkdir text_buffer/python_read_text_buffer\n",
    "!mkdir text_buffer/unity_read_text_buffer\n",
    "!mkdir src\n",
    "!touch daemons/__init__.py\n",
    "!touch daemons/utils/__init__.py\n",
    "!touch src/__init__.py\n",
    "!touch __init__.py"
   ]
  },
  {
   "cell_type": "markdown",
   "metadata": {},
   "source": [
    "After deciding the format of data in the object text buffer files (object1, object2, ...) we can start writing the `read_object_from_file.` module that will read the obejct text buffer file, and convert it into a Python object. Similarly, we will write the `write_object_to_file` module that will write a python object to the object text buffer file."
   ]
  },
  {
   "cell_type": "code",
   "execution_count": 29,
   "metadata": {
    "collapsed": false
   },
   "outputs": [
    {
     "name": "stdout",
     "output_type": "stream",
     "text": [
      "Overwriting text_buffer/python_read_text_buffer/object1\n"
     ]
    }
   ],
   "source": [
    "%%file text_buffer/python_read_text_buffer/object1\n",
    "position = (10.45,20,30)\n",
    "orientation = (39,-12.44,495.0)"
   ]
  },
  {
   "cell_type": "code",
   "execution_count": 30,
   "metadata": {
    "collapsed": false
   },
   "outputs": [
    {
     "name": "stdout",
     "output_type": "stream",
     "text": [
      "Writing text_buffer/python_read_text_buffer/object2\n"
     ]
    }
   ],
   "source": [
    "%%file text_buffer/python_read_text_buffer/object2\n",
    "position = (39,4,5.6)\n",
    "orientation = (34,-90,34.334)"
   ]
  },
  {
   "cell_type": "code",
   "execution_count": 31,
   "metadata": {
    "collapsed": false
   },
   "outputs": [
    {
     "name": "stdout",
     "output_type": "stream",
     "text": [
      "Overwriting daemons/utils/getcwd.py\n"
     ]
    }
   ],
   "source": [
    "%%file daemons/utils/getcwd.py\n",
    "\n",
    "'''\n",
    "returns the path of the the directory encompassing the \n",
    "\"daemons\" directory\n",
    "'''\n",
    "\n",
    "def getcwd() : \n",
    "    working_directory_list = __file__.split('/')\n",
    "    working_directory = ''\n",
    "    for element in working_directory_list : \n",
    "        if 'daemons' in element : \n",
    "            break\n",
    "        else :  \n",
    "            working_directory += element + '/'\n",
    "    return working_directory \n",
    "    "
   ]
  },
  {
   "cell_type": "markdown",
   "metadata": {},
   "source": [
    "Now, let us first rewrite the `daemon.py` and `python_read_daemon.py` scripts"
   ]
  },
  {
   "cell_type": "code",
   "execution_count": 32,
   "metadata": {
    "collapsed": false
   },
   "outputs": [
    {
     "name": "stdout",
     "output_type": "stream",
     "text": [
      "Overwriting daemons/daemon.py\n"
     ]
    }
   ],
   "source": [
    "%%file daemons/daemon.py\n",
    "\n",
    "import os,sys\n",
    "import atexit\n",
    "import signal\n",
    "\n",
    "def daemonize(pidfile,stdin='/dev/null',stdout='/dev/null',stderr='/dev/null') : \n",
    "    if os.path.exists(pidfile) : \n",
    "        raise RuntimeError('Already running')\n",
    "    \n",
    "    # first fork (detach the child process from the parent \n",
    "    # process, and then terminate the parent)\n",
    "    try : \n",
    "        if os.fork() > 0 : \n",
    "            raise SystemExit(0)  # parent exit\n",
    "    except OSError as e : \n",
    "        raise RuntimeError('fork number 1 failed')\n",
    "    else : \n",
    "        pass  # fork 1 success\n",
    "    \n",
    "    # it is a good practice to change the directory so that\n",
    "    # the daemon is no longer working in the directory it was\n",
    "    # launched from\n",
    "    os.chdir('/')\n",
    "    os.umask(0)\n",
    "    \n",
    "    os.setsid()  # the child process is now the session leader\n",
    "    \n",
    "    # second fork (relinquish session leadership)\n",
    "    # this step makes the daemon process give up the ability\n",
    "    # to acquire a new controlling terminal (because only a \n",
    "    # session leader can do so) and provides even more isolation\n",
    "    try : \n",
    "        if os.fork() > 0 : \n",
    "            raise SystemExit(0)\n",
    "    except OSError as e : \n",
    "        raise RuntimeError('fork number 2 failed')\n",
    "    else : \n",
    "        pass  # fork 2 success\n",
    "        \n",
    "    # replace the file descriptors for stdin, stdout and stderr\n",
    "    with open(stdin,'rb',0) as f : \n",
    "        # dup2 duplicates the file descriptor, closing the latter\n",
    "        # first if necessary.\n",
    "        # syntax : dup(fd,fd2) where : \n",
    "        #         fd  --> file descriptor to be duplicated\n",
    "        #         fd2 --> the duplicate file descriptor \n",
    "        os.dup2(f.fileno(),sys.stdin.fileno())\n",
    "        # what we are doing here is that we are replacing \n",
    "        # sys.stdin with the file object returned by \n",
    "        # open(stdin,rb,0)\n",
    "    with open (stdout,'ab',0) as f : \n",
    "        os.dup2(f.fileno(),sys.stdout.fileno())\n",
    "    with open(stderr,'ab',0) as f : \n",
    "        os.dup2(f.fileno(),sys.stderr.fileno())\n",
    "        \n",
    "    # write the PID of the daemon in the pid file (which in this\n",
    "    # case is \"/tmp/daemon.pid\")\n",
    "    with open(pidfile,'w') as f : \n",
    "        f.write(str(os.getpid()))\n",
    "        \n",
    "    # remove the PID file at exit\n",
    "    atexit.register(lambda: os.remove(pidfile))\n",
    "    # since we need to supply a function to the \"atexit.register\" \n",
    "    # method, we define an inline function using the \"lambda\" \n",
    "    # keyword\n",
    "    \n",
    "    # signal handler for termination\n",
    "    def sigterm_handler(signo,frame) : \n",
    "        raise SystemExit(1)\n",
    "    # this method is called when any signal is\n",
    "    # passed to this process\n",
    "        \n",
    "    # signal.signal(signalnum, handler)\n",
    "    # Set the handler for signal signalnum to the function handler. \n",
    "    # Handler can be a callable Python object\n",
    "    signal.signal(signal.SIGTERM,sigterm_handler)\n"
   ]
  },
  {
   "cell_type": "code",
   "execution_count": 33,
   "metadata": {
    "collapsed": false
   },
   "outputs": [
    {
     "name": "stdout",
     "output_type": "stream",
     "text": [
      "Overwriting daemons/utils/read_object_from_file.py\n"
     ]
    }
   ],
   "source": [
    "%%file daemons/utils/read_object_from_file.py\n",
    "\n",
    "class object_class : \n",
    "    def __init__(self,name) : \n",
    "        self.name = name\n",
    "    def __print__(self) : \n",
    "        print('name : ' + self.name)\n",
    "        for element in self.__dict__.keys() : \n",
    "            if element != 'name' : \n",
    "                print(element + ' : ' + self.__dict__[element])\n",
    "\n",
    "def parse_file(object_name,string) : \n",
    "    def remove_spaces(string) : \n",
    "        return_string = ''\n",
    "        for character in string : \n",
    "            if character != ' ' : \n",
    "                return_string += character\n",
    "        return return_string\n",
    "    \n",
    "    return_object = object_class(object_name)\n",
    "    \n",
    "    lines = string.split('\\n')\n",
    "    for line in lines : \n",
    "        name,value = [remove_spaces(string) for string in line.split('=')]\n",
    "        setattr(return_object,name,value)\n",
    "    return return_object\n",
    "\n",
    "def read(file_path) : \n",
    "    string = ''\n",
    "    with open(file_path) as file : \n",
    "        string += file.read()\n",
    "    \n",
    "    return_object = parse_file(file_path.split('/')[-1],string)\n",
    "    return return_object\n"
   ]
  },
  {
   "cell_type": "code",
   "execution_count": 34,
   "metadata": {
    "collapsed": false
   },
   "outputs": [
    {
     "name": "stdout",
     "output_type": "stream",
     "text": [
      "name : object1\n",
      "orientation : (39,-12.44,495.0)\n",
      "position : (10.45,20,30)\n"
     ]
    }
   ],
   "source": [
    "from daemons.utils import read_object_from_file\n",
    "\n",
    "object_ = read_object_from_file.read('text_buffer/python_read_text_buffer/object1')\n",
    "object_.__print__()"
   ]
  },
  {
   "cell_type": "markdown",
   "metadata": {},
   "source": [
    "Now that we have this, we can just call the `read_object_from_file.read` method for every file in the `text_buffer/python_read_text_buffer/` directory and we will have Python objects representing every object in C#. So, lets modify the `python_read_daemon.py` to incorporate this functionality in the read method"
   ]
  },
  {
   "cell_type": "code",
   "execution_count": 35,
   "metadata": {
    "collapsed": false
   },
   "outputs": [
    {
     "name": "stdout",
     "output_type": "stream",
     "text": [
      "Overwriting daemons/python_read_daemon.py\n"
     ]
    }
   ],
   "source": [
    "%%file daemons/python_read_daemon.py\n",
    "#!/Library/Frameworks/Python.framework/Versions/3.4/bin/python3\n",
    "\n",
    "''' \n",
    "--------------------- specifications -----------------------------\n",
    " - start daemon process when called with the argument \"start\"\n",
    " - stop daemon process when called with the argument \"stop\"\n",
    " - read values from the text buffer when called with the argument \"read\"\n",
    "------------------------------------------------------------------\n",
    "'''\n",
    "\n",
    "import sys,os\n",
    "import signal\n",
    "import daemon\n",
    "from utils.getcwd import getcwd\n",
    "from utils import read_object_from_file\n",
    "working_directory = getcwd()\n",
    "\n",
    "def main() : \n",
    "    import time\n",
    "    sys.stdout.write('Daemon started with pid {}\\n'.format(os.getpid()))\n",
    "    while True : \n",
    "        sys.stdout.write('Daemon Alive\\n')\n",
    "        time.sleep(1) \n",
    "\n",
    "if __name__ == '__main__' : \n",
    "    # is the top level module being called\n",
    "\n",
    "    PIDFILE = '/tmp/python_read_daemon.pid'\n",
    "    LOGFILE = '/tmp/python_read_daemon.log'\n",
    "\n",
    "    def start() : \n",
    "        try : \n",
    "            daemon.daemonize(PIDFILE,stdout=LOGFILE,stderr=LOGFILE)\n",
    "        except RuntimeError as e : \n",
    "            # daemon already runnning, as defined in the \n",
    "            # daemon.daemonize method\n",
    "            print(e)\n",
    "            sys.stderr.write(e)\n",
    "            raise SystemExit(1)\n",
    "        else : \n",
    "            # daemon started\n",
    "            main()\n",
    "\n",
    "    def stop() : \n",
    "        # check if daemon is already running\n",
    "        if os.path.exists(PIDFILE) :\n",
    "            # daemon is running\n",
    "            with open(PIDFILE) as f : \n",
    "                os.kill(int(f.read()),signal.SIGTERM)\n",
    "        else : \n",
    "            # daemon is not running\n",
    "            error_text = 'Daemon is not running'\n",
    "            print(error_text)\n",
    "            sys.stderr.write(error_text)\n",
    "            raise SystemExit(1)\n",
    "            \n",
    "    def read() : \n",
    "        if os.path.exists(PIDFILE) : \n",
    "            objects_list = []\n",
    "            for root,dirs,files in os.walk(working_directory + 'text_buffer/python_read_text_buffer') : \n",
    "                for file in files : \n",
    "                    objects_list.append(read_object_from_file.read(root + '/' + file))\n",
    "            for object_ in objects_list : \n",
    "                object_.__print__()\n",
    "                print()\n",
    "        else : \n",
    "            # daemon is not running\n",
    "            error_text = 'Daemon is not running'\n",
    "            print(error_text)\n",
    "            sys.stderr.write(error_text)\n",
    "            raise SystemExit(1)\n",
    "            \n",
    "\n",
    "    command_method_dictionary = {\n",
    "        'start' : start,\n",
    "        'stop' : stop,\n",
    "        'read' : read,\n",
    "    }\n",
    "\n",
    "    if len(sys.argv) == 1 :\n",
    "        error_string = 'No arguments provided. Usage: {} [start|stop]'.format(sys.argv[0])\n",
    "        print(error_string)\n",
    "        sys.stderr.write(error_string)\n",
    "        raise SystemExit(1)\n",
    "\n",
    "    else : \n",
    "        try : \n",
    "            command_method_dictionary[sys.argv[1]]()\n",
    "        except KeyError : \n",
    "            error_string = 'Incorrect argument provided\\n acceptable arguments are :\\n' \n",
    "            for command in command_method_dictionary.keys() : \n",
    "                error_string += command + '\\n'\n",
    "                \n",
    "            print(error_string,file=sys.stderr)\n",
    "#             sys.stderr.write(error_string)\n",
    "            raise SystemExit(1)"
   ]
  },
  {
   "cell_type": "code",
   "execution_count": 36,
   "metadata": {
    "collapsed": false
   },
   "outputs": [
    {
     "name": "stdout",
     "output_type": "stream",
     "text": [
      "name : object1\r\n",
      "position : (10.45,20,30)\r\n",
      "orientation : (39,-12.44,495.0)\r\n",
      "name : object2\r\n",
      "position : (39,4,5.6)\r\n",
      "orientation : (34,-90,34.334)\r\n"
     ]
    }
   ],
   "source": [
    "!chmod +x daemons/python_read_daemon.py\n",
    "!./daemons/python_read_daemon.py start\n",
    "!./daemons/python_read_daemon.py read\n",
    "!./daemons/python_read_daemon.py stop"
   ]
  },
  {
   "cell_type": "code",
   "execution_count": null,
   "metadata": {
    "collapsed": true
   },
   "outputs": [],
   "source": []
  }
 ],
 "metadata": {
  "kernelspec": {
   "display_name": "Python 3",
   "language": "python",
   "name": "python3"
  },
  "language_info": {
   "codemirror_mode": {
    "name": "ipython",
    "version": 3
   },
   "file_extension": ".py",
   "mimetype": "text/x-python",
   "name": "python",
   "nbconvert_exporter": "python",
   "pygments_lexer": "ipython3",
   "version": "3.4.3"
  }
 },
 "nbformat": 4,
 "nbformat_minor": 0
}
