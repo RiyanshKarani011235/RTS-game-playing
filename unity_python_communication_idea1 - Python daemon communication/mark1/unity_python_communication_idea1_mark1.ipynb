{
 "cells": [
  {
   "cell_type": "markdown",
   "metadata": {},
   "source": [
    "<h1>IDEA !</h1>\n",
    "\n",
    "Use **Python communication scripts** to act as a communication channel between **Unity C# scripts** and **Python controlling scripts**.\n",
    "\n",
    "Use C# `Process` class to run Python communication scripts from the shell on the **C# side** and use the `os.system` method in python to run Python communciation scripts from shell on the **python side**"
   ]
  },
  {
   "cell_type": "markdown",
   "metadata": {},
   "source": [
    "<h1>___put in a picture here___</h1>"
   ]
  },
  {
   "cell_type": "markdown",
   "metadata": {},
   "source": [
    "<h3>Typical Python Daemon</h3>"
   ]
  },
  {
   "cell_type": "code",
   "execution_count": 57,
   "metadata": {
    "collapsed": false
   },
   "outputs": [
    {
     "name": "stdout",
     "output_type": "stream",
     "text": [
      "Overwriting typical_daemon_file.py\n"
     ]
    }
   ],
   "source": [
    "%%file typical_daemon_file.py\n",
    "#!/Library/Frameworks/Python.framework/Versions/3.4/bin/python3\n",
    "\n",
    "import os,sys\n",
    "import atexit\n",
    "import signal\n",
    "\n",
    "def daemonize(pidfile,stdin='/dev/null',stdout='/dev/null',stderr='/dev/null') : \n",
    "    if os.path.exists(pidfile) : \n",
    "        raise RuntimeError('Already running')\n",
    "    \n",
    "    # first fork (detach the child process from the parent \n",
    "    # process, and then terminate the parent)\n",
    "    try : \n",
    "        if os.fork() > 0 : \n",
    "            raise SystemExit(0)  # parent exit\n",
    "    except OSError as e : \n",
    "        raise RuntimeError('fork number 1 failed')\n",
    "    else : \n",
    "        pass  # fork 1 success\n",
    "    \n",
    "    # it is a good practice to change the directory so that\n",
    "    # the daemon is no longer working in the directory it was\n",
    "    # launched from\n",
    "    os.chdir('/')\n",
    "    os.umask(0)\n",
    "    \n",
    "    os.setsid()  # the child process is now the session leader\n",
    "    \n",
    "    # second fork (relinquish session leadership)\n",
    "    try : \n",
    "        if os.fork() > 0 : \n",
    "            raise SystemExit(0)\n",
    "    except OSError as e : \n",
    "        raise RuntimeError('fork number 2 failed')\n",
    "    else : \n",
    "        pass  # fork 2 success\n",
    "        \n",
    "    # replace the file descriptors for stdin, stdout and stderr\n",
    "    with open(stdin,'rb',0) as f : \n",
    "        # dup2 duplicates the file descriptor, closing the latter\n",
    "        # first if necessary\n",
    "        os.dup2(f.fileno(),sys.stdin.fileno())\n",
    "    with open (stdout,'ab',0) as f : \n",
    "        os.dup2(f.fileno(),sys.stdout.fileno())\n",
    "    with open(stderr,'ab',0) as f : \n",
    "        os.dup2(f.fileno(),sys.stderr.fileno())\n",
    "        \n",
    "    # write the PID file\n",
    "    with open(pidfile,'w') as f : \n",
    "        # write the PID of this daemon in the pid file (which in\n",
    "        # this case is /tmp/daemon.pid)\n",
    "        f.write(str(os.getpid()))\n",
    "        \n",
    "    # remove the PID file at exit\n",
    "    atexit.register(lambda: os.remove(pidfile))\n",
    "    \n",
    "    # signal handler for termination\n",
    "    def sigterm_handler(signo,frame) : \n",
    "        raise SystemExit(1)\n",
    "    # this method is called when any signal is\n",
    "    # passed to this process\n",
    "        \n",
    "    # signal.signal(signalnum, handler)\n",
    "    # Set the handler for signal signalnum to the function handler. \n",
    "    # Handler can be a callable Python object\n",
    "    signal.signal(signal.SIGTERM,sigterm_handler)\n",
    "    \n",
    "def main() : \n",
    "    import time\n",
    "    sys.stdout.write('Daemon started with pid {}\\n'.format(os.getpid()))\n",
    "    while True : \n",
    "        sys.stdout.write('Daemon Alive\\n')\n",
    "        time.sleep(1)\n",
    "    \n",
    "if __name__ == '__main__' :  # this is the file which is run\n",
    "    PIDFILE = '/tmp/daemon.pid'\n",
    "    \n",
    "    if len(sys.argv) != 2 : \n",
    "        error_text = 'Usage: {} [start|stop]'.format(sys.argv[0])\n",
    "        print(error_text)\n",
    "        # with open(sys.stderr,'wt') as f : \n",
    "        #     f.write(error_text)\n",
    "        sys.stderr.write(error_text)\n",
    "        raise SystemExit(1)\n",
    "    \n",
    "    if sys.argv[1] == 'start' :\n",
    "        try : \n",
    "            daemonize(PIDFILE, stdout='/tmp/daemon.log', stderr='/tmp/daemon.log')\n",
    "        except RuntimeError as e : \n",
    "            error_text = e\n",
    "            print(e)\n",
    "            sys.stderr.write(error_text)\n",
    "            raise SystemExit(1)\n",
    "        else : \n",
    "            pass # daemon started\n",
    "        \n",
    "        main()\n",
    "        \n",
    "    elif sys.argv[1] == 'stop' : \n",
    "        if os.path.exists(PIDFILE) :  # check if daemon is already running\n",
    "            with open(PIDFILE) as f : \n",
    "                # os.kill(pid, sig) Send signal sig to the process pid. \n",
    "                # Constants for the specific signals available on the host \n",
    "                # platform are defined in the signal module.\n",
    "                os.kill(int(f.read()),signal.SIGTERM)\n",
    "                # in this case the file f (/tmp/daemon.pid) which stores the \n",
    "                # PID of the daemon process is read (returning the PID of the\n",
    "                # daemon process). This PID is the first argument to the \n",
    "                # os.kill method, which means that this signal will be sent\n",
    "                # to the daemonized process\n",
    "                # -----------------------------------------------------------\n",
    "                # we send the signal \"signal.SIGTERM\" to the daemon process.\n",
    "                # since the \"signal.signal(signal.SIGTERM,sigterm_handler)\"\n",
    "                # handler is defined for the signal \"signal.SIGTERM\", the \n",
    "                # sigterm_handler method is called, which is defined in\n",
    "                # daemonize.py\n",
    "        \n",
    "        else : \n",
    "            error_text = 'daemon not running'\n",
    "            print(error_text)\n",
    "            sys.stderr.write(error_text)\n",
    "            raise(SystemExit(1))\n",
    "            \n",
    "    else : \n",
    "        error_text = 'unknown command {}'.format(sys.argv[1])\n",
    "        print(error_text)\n",
    "        sys.stderr.write(error_text)\n",
    "        raise SystemExit(1) \n"
   ]
  },
  {
   "cell_type": "code",
   "execution_count": 58,
   "metadata": {
    "collapsed": false
   },
   "outputs": [
    {
     "name": "stdout",
     "output_type": "stream",
     "text": [
      "rm: /tmp/daemon.pid: No such file or directory\r\n"
     ]
    }
   ],
   "source": [
    "import time\n",
    "!rm /tmp/daemon.pid\n",
    "!rm /tmp/daemon.log\n",
    "!chmod +x typical_daemon_file.py\n",
    "!./typical_daemon_file.py start\n",
    "time.sleep(5)\n",
    "!./typical_daemon_file.py stop"
   ]
  },
  {
   "cell_type": "code",
   "execution_count": 59,
   "metadata": {
    "collapsed": false
   },
   "outputs": [
    {
     "name": "stdout",
     "output_type": "stream",
     "text": [
      "Daemon started with pid 95355\r\n",
      "Daemon Alive\r\n",
      "Daemon Alive\r\n",
      "Daemon Alive\r\n",
      "Daemon Alive\r\n",
      "Daemon Alive\r\n",
      "Daemon Alive\r\n"
     ]
    }
   ],
   "source": [
    "!cat /tmp/daemon.log"
   ]
  },
  {
   "cell_type": "markdown",
   "metadata": {},
   "source": [
    "The daemon works perfectly, working for 5 seconds and then stopping, meanwhile writing the string \"Daemon Alive\" to /tmp/daemon.log every 1 second"
   ]
  },
  {
   "cell_type": "markdown",
   "metadata": {},
   "source": [
    "We will now set up our text buffers, and modify the **typical_daemon_file.py** to write : \n",
    " - python_read_daemon\n",
    " - python_write_daemon\n",
    " - unity_read_daemon\n",
    " - unity_write_daemon"
   ]
  },
  {
   "cell_type": "code",
   "execution_count": 60,
   "metadata": {
    "collapsed": false
   },
   "outputs": [
    {
     "name": "stdout",
     "output_type": "stream",
     "text": [
      "Overwriting python_read_text_buffer\n"
     ]
    }
   ],
   "source": [
    "%%file python_read_text_buffer\n",
    "\n",
    "pass"
   ]
  },
  {
   "cell_type": "code",
   "execution_count": 61,
   "metadata": {
    "collapsed": false
   },
   "outputs": [
    {
     "name": "stdout",
     "output_type": "stream",
     "text": [
      "Overwriting unity_read_text_buffer\n"
     ]
    }
   ],
   "source": [
    "%%file unity_read_text_buffer\n",
    "\n",
    "pass"
   ]
  },
  {
   "cell_type": "markdown",
   "metadata": {},
   "source": [
    "We now write the daemonize function separately in a file **daemon.py** which we will import whenever we are defining an new type of daemon"
   ]
  },
  {
   "cell_type": "code",
   "execution_count": 78,
   "metadata": {
    "collapsed": false
   },
   "outputs": [
    {
     "name": "stdout",
     "output_type": "stream",
     "text": [
      "Overwriting daemon.py\n"
     ]
    }
   ],
   "source": [
    "%%file daemon.py\n",
    "#!/Library/Frameworks/Python.framework/Versions/3.4/bin/python3\n",
    "\n",
    "import os,sys\n",
    "import atexit\n",
    "import signal\n",
    "\n",
    "def daemonize(pidfile,stdin='/dev/null',stdout='/dev/null',stderr='/dev/null') : \n",
    "    if os.path.exists(pidfile) : \n",
    "        raise RuntimeError('Already running')\n",
    "    \n",
    "    # first fork (detach the child process from the parent \n",
    "    # process, and then terminate the parent)\n",
    "    try : \n",
    "        if os.fork() > 0 : \n",
    "            raise SystemExit(0)  # parent exit\n",
    "    except OSError as e : \n",
    "        raise RuntimeError('fork number 1 failed')\n",
    "    else : \n",
    "        pass  # fork 1 success\n",
    "    \n",
    "    # it is a good practice to change the directory so that\n",
    "    # the daemon is no longer working in the directory it was\n",
    "    # launched from\n",
    "    os.chdir('/')\n",
    "    os.umask(0)\n",
    "    \n",
    "    os.setsid()  # the child process is now the session leader\n",
    "    \n",
    "    # second fork (relinquish session leadership)\n",
    "    # this step makes the daemon process give up the ability\n",
    "    # to acquire a new controlling terminal (because only a \n",
    "    # session leader can do so) and provides even more isolation\n",
    "    try : \n",
    "        if os.fork() > 0 : \n",
    "            raise SystemExit(0)\n",
    "    except OSError as e : \n",
    "        raise RuntimeError('fork number 2 failed')\n",
    "    else : \n",
    "        pass  # fork 2 success\n",
    "        \n",
    "    # replace the file descriptors for stdin, stdout and stderr\n",
    "    with open(stdin,'rb',0) as f : \n",
    "        # dup2 duplicates the file descriptor, closing the latter\n",
    "        # first if necessary.\n",
    "        # syntax : dup(fd,fd2) where : \n",
    "        #         fd  --> file descriptor to be duplicated\n",
    "        #         fd2 --> the duplicate file descriptor \n",
    "        os.dup2(f.fileno(),sys.stdin.fileno())\n",
    "        # what we are doing here is that we are replacing \n",
    "        # sys.stdin with the file object returned by \n",
    "        # open(stdin,rb,0)\n",
    "    with open (stdout,'ab',0) as f : \n",
    "        os.dup2(f.fileno(),sys.stdout.fileno())\n",
    "    with open(stderr,'ab',0) as f : \n",
    "        os.dup2(f.fileno(),sys.stderr.fileno())\n",
    "        \n",
    "    # write the PID of the daemon in the pid file (which in this\n",
    "    # case is \"/tmp/daemon.pid\")\n",
    "    with open(pidfile,'w') as f : \n",
    "        f.write(str(os.getpid()))\n",
    "        \n",
    "    # remove the PID file at exit\n",
    "    atexit.register(lambda: os.remove(pidfile))\n",
    "    # since we need to supply a function to the \"atexit.register\" \n",
    "    # method, we define an inline function using the \"lambda\" \n",
    "    # keyword\n",
    "    \n",
    "    # signal handler for termination\n",
    "    def sigterm_handler(signo,frame) : \n",
    "        raise SystemExit(1)\n",
    "    # this method is called when any signal is\n",
    "    # passed to this process\n",
    "        \n",
    "    # signal.signal(signalnum, handler)\n",
    "    # Set the handler for signal signalnum to the function handler. \n",
    "    # Handler can be a callable Python object\n",
    "    signal.signal(signal.SIGTERM,sigterm_handler)\n"
   ]
  },
  {
   "cell_type": "markdown",
   "metadata": {},
   "source": [
    "Now on to writing the daemon methods"
   ]
  },
  {
   "cell_type": "code",
   "execution_count": 114,
   "metadata": {
    "collapsed": false
   },
   "outputs": [
    {
     "name": "stdout",
     "output_type": "stream",
     "text": [
      "Overwriting python_read_daemon.py\n"
     ]
    }
   ],
   "source": [
    "%%file python_read_daemon.py\n",
    "#!/Library/Frameworks/Python.framework/Versions/3.4/bin/python3\n",
    "\n",
    "''' \n",
    "--------------------- specifications -----------------------------\n",
    " - start daemon process when called with the argument \"start\"\n",
    " - stop daemon process when called with the argument \"stop\"\n",
    " - read values from the text buffer when called with the argument \"read\"\n",
    "------------------------------------------------------------------\n",
    "'''\n",
    "\n",
    "import sys,os\n",
    "import signal\n",
    "import daemon\n",
    "\n",
    "def main() : \n",
    "    import time\n",
    "    sys.stdout.write('Daemon started with pid {}\\n'.format(os.getpid()))\n",
    "    while True : \n",
    "        sys.stdout.write('Daemon Alive\\n')\n",
    "        time.sleep(1) \n",
    "\n",
    "if __name__ == '__main__' : \n",
    "    # is the top level module being called\n",
    "\n",
    "    PIDFILE = '/tmp/python_read_daemon.pid'\n",
    "    LOGFILE = '/tmp/python_read_daemon.log'\n",
    "\n",
    "    def start() : \n",
    "        try : \n",
    "            daemon.daemonize(PIDFILE,stdout=LOGFILE,stderr=LOGFILE)\n",
    "        except RuntimeError as e : \n",
    "            # daemon already runnning, as defined in the \n",
    "            # daemon.daemonize method\n",
    "            print(e)\n",
    "            sys.stderr.write(e)\n",
    "            raise SystemExit(1)\n",
    "        else : \n",
    "            # daemon started\n",
    "            main()\n",
    "\n",
    "    def stop() : \n",
    "        # check if daemon is already running\n",
    "        if os.path.exists(PIDFILE) :\n",
    "            # daemon is running\n",
    "            with open(PIDFILE) as f : \n",
    "                os.kill(int(f.read()),signal.SIGTERM)\n",
    "        else : \n",
    "            # daemon is not running\n",
    "            error_text = 'Daemon is not running'\n",
    "            print(error_text)\n",
    "            sys.stderr.write(error_text)\n",
    "            raise SystemExit(1)\n",
    "            \n",
    "    def read() : \n",
    "        pass\n",
    "\n",
    "    command_method_dictionary = {\n",
    "        'start' : start,\n",
    "        'stop' : stop,\n",
    "        'read' : read,\n",
    "    }\n",
    "\n",
    "    if len(sys.argv) == 1 :\n",
    "        error_string = 'No arguments provided. Usage: {} [start|stop]'.format(sys.argv[0])\n",
    "        print(error_string)\n",
    "        sys.stderr.write(error_string)\n",
    "        raise SystemExit(1)\n",
    "\n",
    "    else : \n",
    "        try : \n",
    "            command_method_dictionary[sys.argv[1]]()\n",
    "        except KeyError : \n",
    "            error_string = 'Incorrect argument provided\\n acceptable arguments are :\\n' \n",
    "            for command in command_method_dictionary.keys() : \n",
    "                error_string += command + '\\n'\n",
    "                \n",
    "            print(error_string,file=sys.stderr)\n",
    "#             sys.stderr.write(error_string)\n",
    "            raise SystemExit(1)"
   ]
  },
  {
   "cell_type": "code",
   "execution_count": 115,
   "metadata": {
    "collapsed": false
   },
   "outputs": [
    {
     "name": "stdout",
     "output_type": "stream",
     "text": [
      "rm: /tmp/python_read_daemon.log: No such file or directory\n",
      "Incorrect argument provided\n",
      " acceptable arguments are :\n",
      "stop\n",
      "start\n",
      "read\n",
      "\n",
      "-------------------------------------\n",
      "Daemon started with pid 2882\n",
      "Daemon Alive\n",
      "Daemon Alive\n",
      "Daemon Alive\n",
      "Daemon Alive\n"
     ]
    }
   ],
   "source": [
    "!rm /tmp/python_read_daemon.log\n",
    "import time\n",
    "!./python_read_daemon.py start\n",
    "time.sleep(2)\n",
    "!./python_read_daemon.py hmmm\n",
    "time.sleep(1)\n",
    "!./python_read_daemon.py stop\n",
    "print('-------------------------------------')\n",
    "!cat /tmp/python_read_daemon.log"
   ]
  },
  {
   "cell_type": "markdown",
   "metadata": {},
   "source": [
    "Now all that is remaining is to write the `read` method. Lets first decide what will be the format of the data that will be written in the **python_read_text_buffer**. Lets keep that for the next tutorial"
   ]
  },
  {
   "cell_type": "code",
   "execution_count": null,
   "metadata": {
    "collapsed": true
   },
   "outputs": [],
   "source": []
  }
 ],
 "metadata": {
  "kernelspec": {
   "display_name": "Python 3",
   "language": "python",
   "name": "python3"
  },
  "language_info": {
   "codemirror_mode": {
    "name": "ipython",
    "version": 3
   },
   "file_extension": ".py",
   "mimetype": "text/x-python",
   "name": "python",
   "nbconvert_exporter": "python",
   "pygments_lexer": "ipython3",
   "version": "3.4.3"
  }
 },
 "nbformat": 4,
 "nbformat_minor": 0
}
